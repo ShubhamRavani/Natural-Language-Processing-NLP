{
 "cells": [
  {
   "cell_type": "code",
   "execution_count": 1,
   "id": "7fb3b6df",
   "metadata": {},
   "outputs": [],
   "source": [
    "#Regular Expressions (REGEX) to extract the sample text."
   ]
  },
  {
   "cell_type": "code",
   "execution_count": 2,
   "id": "87b7c510",
   "metadata": {},
   "outputs": [],
   "source": [
    "#Import Libraries\n",
    "import re"
   ]
  },
  {
   "cell_type": "code",
   "execution_count": 3,
   "id": "5c02dc6a",
   "metadata": {},
   "outputs": [
    {
     "name": "stdout",
     "output_type": "stream",
     "text": [
      "['https://www.google.com', 'https://www.youtube.com']\n"
     ]
    }
   ],
   "source": [
    "#extracting url\n",
    "with open(\"url.txt\") as file:\n",
    "    for line in file:\n",
    "        urls = re.findall('https?://(?:[-\\w.]|(?:%[\\da-fA-F]{2}))+', line)\n",
    "        print(urls)"
   ]
  },
  {
   "cell_type": "code",
   "execution_count": 4,
   "id": "2ce9bd9d",
   "metadata": {},
   "outputs": [
    {
     "name": "stdout",
     "output_type": "stream",
     "text": [
      "['shubhamravani67890@gmail.com', 'shubham.ravani@adypu.edu.in']\n"
     ]
    }
   ],
   "source": [
    "#extracting email\n",
    "s = \"Hello from shubhamravani67890@gmail.com to shubham.ravani@adypu.edu.in about the meeting @2PM\"\n",
    "lst = re.findall(r\"[a-z0-9\\.\\-+_]+@[a-z0-9\\.\\-+_]+\\.[a-z]+\", s)\n",
    "\n",
    "# Printing of List\n",
    "print(lst)"
   ]
  },
  {
   "cell_type": "code",
   "execution_count": 5,
   "id": "cdd6a849",
   "metadata": {},
   "outputs": [
    {
     "name": "stdout",
     "output_type": "stream",
     "text": [
      "9898061998\n",
      "9426557366\n"
     ]
    }
   ],
   "source": [
    "#extracting phone number\n",
    "def findPhoneNumber(text):\n",
    "    line = re.findall(r'[\\+\\(]?[1-9][0-9 .\\-\\(\\)]{8,}[0-9]', text)\n",
    "\n",
    "    for phone in line:\n",
    "        print(phone)\n",
    "\n",
    "        \n",
    "if __name__ == \"__main__\":\n",
    "    example = \"9898061998 is a mine phone number 9426557366 number of PMO \"\n",
    "    findPhoneNumber(example)"
   ]
  },
  {
   "cell_type": "code",
   "execution_count": 6,
   "id": "786075d3",
   "metadata": {},
   "outputs": [
    {
     "name": "stdout",
     "output_type": "stream",
     "text": [
      "india\n",
      "cricket\n",
      "fifa\n"
     ]
    }
   ],
   "source": [
    "#extracting hashtag\n",
    "def findHash(text):\n",
    "    line=re.findall('#(\\w+)',text)\n",
    "    for hashteg in line:\n",
    "        print(hashteg)\n",
    "if __name__ == \"__main__\":\n",
    "    example=\"#india #cricket #fifa is trending everywhere\"\n",
    "    findHash(example)"
   ]
  },
  {
   "cell_type": "code",
   "execution_count": 7,
   "id": "646ce8d4",
   "metadata": {},
   "outputs": [
    {
     "data": {
      "text/plain": [
       "'hey this is a very long text'"
      ]
     },
     "execution_count": 7,
     "metadata": {},
     "output_type": "execute_result"
    }
   ],
   "source": [
    "#Repetitive Character\n",
    "text=\"heyyy this is a verrrry loong texttt\"\n",
    "re.sub(r'(.)\\1+', r'\\1', text)"
   ]
  },
  {
   "cell_type": "code",
   "execution_count": null,
   "id": "ccdda8d1",
   "metadata": {},
   "outputs": [],
   "source": []
  }
 ],
 "metadata": {
  "kernelspec": {
   "display_name": "Python 3 (ipykernel)",
   "language": "python",
   "name": "python3"
  },
  "language_info": {
   "codemirror_mode": {
    "name": "ipython",
    "version": 3
   },
   "file_extension": ".py",
   "mimetype": "text/x-python",
   "name": "python",
   "nbconvert_exporter": "python",
   "pygments_lexer": "ipython3",
   "version": "3.10.0"
  }
 },
 "nbformat": 4,
 "nbformat_minor": 5
}
