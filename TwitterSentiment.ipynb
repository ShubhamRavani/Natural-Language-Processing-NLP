{
 "cells": [
  {
   "cell_type": "markdown",
   "metadata": {
    "colab_type": "text",
    "id": "view-in-github"
   },
   "source": [
    "<a href=\"https://colab.research.google.com/github/ShubhamRavani/Natural-Language-Processing-NLP/blob/main/TwitterSentiment.ipynb\" target=\"_parent\"><img src=\"https://colab.research.google.com/assets/colab-badge.svg\" alt=\"Open In Colab\"/></a>"
   ]
  },
  {
   "cell_type": "code",
   "execution_count": null,
   "metadata": {
    "id": "nejhwFUnmhWV"
   },
   "outputs": [],
   "source": [
    "#Description: This is a sentiment analysis program in that parses the tweet fetched from Twitter using python.\n"
   ]
  },
  {
   "cell_type": "code",
   "execution_count": null,
   "metadata": {
    "id": "BrAyI7GfnfXT"
   },
   "outputs": [],
   "source": [
    "# Import Libraries\n",
    "import tweepy\n",
    "import matplotlib.pyplot as plt\n",
    "from  textblob import TextBlob \n",
    "import time"
   ]
  },
  {
   "cell_type": "code",
   "execution_count": null,
   "metadata": {
    "id": "S3olBtJpncTv"
   },
   "outputs": [],
   "source": [
    "# Authentication\n",
    "# to connect as OAth handler or jump serever / revers proxy server\n",
    "consumerKey = \"hXGMWM90DWeXAHqHdeDgIKbFt\"\n",
    "consumerSecret = \"JHv78zjIh7uul7L1HwSnAQqDdgl6fWCrluaQfXbWQbq6jnR7jk\"\n",
    "\n",
    "# from proxy server we need to connect\n",
    "accessToken = \"2939368243-xRcsoV4idfRssFg1L4rvwC9nbKdKXM63fpHoPkC\"\n",
    "accessTokenSecret = \"VtslUhutorQJ32DbalUB4SZEHJeEmeTXlyKKxmKWdYCIa\""
   ]
  },
  {
   "cell_type": "code",
   "execution_count": null,
   "metadata": {
    "colab": {
     "base_uri": "https://localhost:8080/"
    },
    "id": "RmFXfxZknth1",
    "outputId": "e6b9b480-d88d-42fc-8f7d-c0772267c245"
   },
   "outputs": [
    {
     "data": {
      "text/plain": [
       "['API',\n",
       " 'AppAuthHandler',\n",
       " 'Cache',\n",
       " 'Cursor',\n",
       " 'DirectMessage',\n",
       " 'FileCache',\n",
       " 'Friendship',\n",
       " 'MemoryCache',\n",
       " 'ModelFactory',\n",
       " 'OAuthHandler',\n",
       " 'RateLimitError',\n",
       " 'SavedSearch',\n",
       " 'SearchResults',\n",
       " 'Status',\n",
       " 'Stream',\n",
       " 'StreamListener',\n",
       " 'TweepError',\n",
       " 'User',\n",
       " '__author__',\n",
       " '__builtins__',\n",
       " '__cached__',\n",
       " '__doc__',\n",
       " '__file__',\n",
       " '__license__',\n",
       " '__loader__',\n",
       " '__name__',\n",
       " '__package__',\n",
       " '__path__',\n",
       " '__spec__',\n",
       " '__version__',\n",
       " 'api',\n",
       " 'auth',\n",
       " 'binder',\n",
       " 'cache',\n",
       " 'cursor',\n",
       " 'debug',\n",
       " 'error',\n",
       " 'models',\n",
       " 'parsers',\n",
       " 'streaming',\n",
       " 'utils']"
      ]
     },
     "execution_count": 9,
     "metadata": {},
     "output_type": "execute_result"
    }
   ],
   "source": [
    "# tweepy explore\n",
    "dir(tweepy)"
   ]
  },
  {
   "cell_type": "code",
   "execution_count": null,
   "metadata": {
    "id": "swNgOk9oqQOG"
   },
   "outputs": [],
   "source": [
    "# connected to jump server of twitter\n",
    "auth=tweepy.OAuthHandler(consumerKey, consumerSecret)"
   ]
  },
  {
   "cell_type": "code",
   "execution_count": null,
   "metadata": {
    "id": "Ou2RxsgRqVDz"
   },
   "outputs": [],
   "source": [
    "# now we can connect from jump server to web server of twitter\n",
    "auth.set_access_token(accessToken,accessTokenSecret)"
   ]
  },
  {
   "cell_type": "code",
   "execution_count": null,
   "metadata": {
    "id": "vxGw_VZcqqqM"
   },
   "outputs": [],
   "source": [
    "# now we can connect to API storge server of twitter\n",
    "api_connect=tweepy.API(auth)"
   ]
  },
  {
   "cell_type": "code",
   "execution_count": null,
   "metadata": {
    "id": "IYGAjmXVqtCQ"
   },
   "outputs": [],
   "source": [
    "# now you can search any topic on twitter\n",
    "tweet_data=api_connect.search('India',count=100)"
   ]
  },
  {
   "cell_type": "code",
   "execution_count": null,
   "metadata": {
    "colab": {
     "base_uri": "https://localhost:8080/",
     "height": 1000
    },
    "id": "kvUQOuH6qwtf",
    "outputId": "bb6d66e5-3df6-4632-83f1-5da8ad7ad7b2"
   },
   "outputs": [
    {
     "name": "stdout",
     "output_type": "stream",
     "text": [
      "Sentiment(polarity=0.0, subjectivity=0.0)\n",
      "Neutral\n",
      "Sentiment(polarity=0.375, subjectivity=1.0)\n",
      "posative\n",
      "Sentiment(polarity=0.0, subjectivity=0.0)\n",
      "Neutral\n",
      "Sentiment(polarity=0.05555555555555555, subjectivity=0.27777777777777773)\n",
      "posative\n",
      "Sentiment(polarity=1.0, subjectivity=0.3)\n",
      "posative\n",
      "Sentiment(polarity=0.8, subjectivity=0.75)\n",
      "posative\n",
      "Sentiment(polarity=0.13636363636363635, subjectivity=0.45454545454545453)\n",
      "posative\n",
      "Sentiment(polarity=0.0, subjectivity=0.5)\n",
      "Neutral\n",
      "Sentiment(polarity=0.0, subjectivity=0.0)\n",
      "Neutral\n",
      "Sentiment(polarity=0.0, subjectivity=0.0)\n",
      "Neutral\n",
      "Sentiment(polarity=0.3541666666666667, subjectivity=0.6875)\n",
      "posative\n",
      "Sentiment(polarity=0.0, subjectivity=1.0)\n",
      "Neutral\n",
      "Sentiment(polarity=0.78125, subjectivity=0.5)\n",
      "posative\n",
      "Sentiment(polarity=0.0, subjectivity=0.1)\n",
      "Neutral\n",
      "Sentiment(polarity=1.0, subjectivity=0.3)\n",
      "posative\n",
      "Sentiment(polarity=0.375, subjectivity=1.0)\n",
      "posative\n",
      "Sentiment(polarity=0.5333333333333333, subjectivity=0.7666666666666666)\n",
      "posative\n",
      "Sentiment(polarity=0.0, subjectivity=0.0)\n",
      "Neutral\n",
      "Sentiment(polarity=0.25, subjectivity=0.25)\n",
      "posative\n",
      "Sentiment(polarity=0.5, subjectivity=0.5)\n",
      "posative\n",
      "Sentiment(polarity=0.04999999999999999, subjectivity=0.6)\n",
      "posative\n",
      "Sentiment(polarity=0.0, subjectivity=0.0)\n",
      "Neutral\n",
      "Sentiment(polarity=0.0, subjectivity=0.0)\n",
      "Neutral\n",
      "Sentiment(polarity=0.0, subjectivity=0.0)\n",
      "Neutral\n",
      "Sentiment(polarity=0.1, subjectivity=0.4)\n",
      "posative\n",
      "Sentiment(polarity=-0.1, subjectivity=0.1)\n",
      "Negative\n",
      "Sentiment(polarity=0.0, subjectivity=0.0)\n",
      "Neutral\n",
      "Sentiment(polarity=0.0, subjectivity=0.0)\n",
      "Neutral\n",
      "Sentiment(polarity=0.0, subjectivity=0.0)\n",
      "Neutral\n",
      "Sentiment(polarity=0.0, subjectivity=0.0)\n",
      "Neutral\n",
      "Sentiment(polarity=0.0, subjectivity=0.0)\n",
      "Neutral\n",
      "Sentiment(polarity=0.0, subjectivity=0.0)\n",
      "Neutral\n",
      "Sentiment(polarity=0.1, subjectivity=0.4)\n",
      "posative\n",
      "Sentiment(polarity=0.5, subjectivity=0.5)\n",
      "posative\n",
      "Sentiment(polarity=0.1875, subjectivity=0.8)\n",
      "posative\n",
      "Sentiment(polarity=0.0, subjectivity=0.0)\n",
      "Neutral\n",
      "Sentiment(polarity=0.0, subjectivity=0.0)\n",
      "Neutral\n",
      "Sentiment(polarity=0.75, subjectivity=1.0)\n",
      "posative\n",
      "Sentiment(polarity=0.0, subjectivity=0.0)\n",
      "Neutral\n",
      "Sentiment(polarity=0.0, subjectivity=0.0)\n",
      "Neutral\n",
      "Sentiment(polarity=0.3125, subjectivity=0.2)\n",
      "posative\n",
      "Sentiment(polarity=0.1875, subjectivity=0.8)\n",
      "posative\n",
      "Sentiment(polarity=0.0, subjectivity=0.0)\n",
      "Neutral\n",
      "Sentiment(polarity=0.0, subjectivity=0.0)\n",
      "Neutral\n",
      "Sentiment(polarity=0.0, subjectivity=0.0)\n",
      "Neutral\n",
      "Sentiment(polarity=0.0, subjectivity=0.0)\n",
      "Neutral\n",
      "Sentiment(polarity=0.0, subjectivity=0.65)\n",
      "Neutral\n",
      "Sentiment(polarity=0.0, subjectivity=0.0)\n",
      "Neutral\n",
      "Sentiment(polarity=-0.3, subjectivity=0.55)\n",
      "Negative\n",
      "Sentiment(polarity=0.05555555555555555, subjectivity=0.27777777777777773)\n",
      "posative\n",
      "Sentiment(polarity=0.0, subjectivity=0.575)\n",
      "Neutral\n",
      "Sentiment(polarity=0.0, subjectivity=0.125)\n",
      "Neutral\n",
      "Sentiment(polarity=0.06666666666666667, subjectivity=0.7333333333333334)\n",
      "posative\n",
      "Sentiment(polarity=0.0, subjectivity=0.0)\n",
      "Neutral\n",
      "Sentiment(polarity=0.0, subjectivity=0.0)\n",
      "Neutral\n",
      "Sentiment(polarity=0.0, subjectivity=0.0)\n",
      "Neutral\n",
      "Sentiment(polarity=0.0, subjectivity=0.0)\n",
      "Neutral\n",
      "Sentiment(polarity=0.0, subjectivity=0.0)\n",
      "Neutral\n",
      "Sentiment(polarity=0.0, subjectivity=0.0)\n",
      "Neutral\n",
      "Sentiment(polarity=0.0, subjectivity=0.0)\n",
      "Neutral\n",
      "Sentiment(polarity=0.0, subjectivity=0.0)\n",
      "Neutral\n",
      "Sentiment(polarity=0.0, subjectivity=0.0)\n",
      "Neutral\n",
      "Sentiment(polarity=0.16944444444444443, subjectivity=0.7638888888888888)\n",
      "posative\n",
      "Sentiment(polarity=0.09999999999999999, subjectivity=0.18333333333333335)\n",
      "posative\n",
      "Sentiment(polarity=0.25, subjectivity=0.25)\n",
      "posative\n",
      "Sentiment(polarity=0.0, subjectivity=1.0)\n",
      "Neutral\n",
      "Sentiment(polarity=0.0625, subjectivity=0.5)\n",
      "posative\n",
      "Sentiment(polarity=0.0, subjectivity=0.0)\n",
      "Neutral\n",
      "Sentiment(polarity=0.0, subjectivity=0.0)\n",
      "Neutral\n",
      "Sentiment(polarity=0.05000000000000001, subjectivity=0.39166666666666666)\n",
      "posative\n",
      "Sentiment(polarity=0.0, subjectivity=0.0)\n",
      "Neutral\n",
      "Sentiment(polarity=0.0, subjectivity=0.0)\n",
      "Neutral\n",
      "Sentiment(polarity=0.0, subjectivity=0.0)\n",
      "Neutral\n",
      "Sentiment(polarity=0.0, subjectivity=0.625)\n",
      "Neutral\n",
      "Sentiment(polarity=-0.3166666666666667, subjectivity=0.3)\n",
      "Negative\n",
      "Sentiment(polarity=0.06818181818181818, subjectivity=0.4147727272727273)\n",
      "posative\n",
      "Sentiment(polarity=0.4681818181818182, subjectivity=0.75)\n",
      "posative\n",
      "Sentiment(polarity=0.0, subjectivity=0.0)\n",
      "Neutral\n",
      "Sentiment(polarity=0.5, subjectivity=0.5)\n",
      "posative\n",
      "Sentiment(polarity=0.0, subjectivity=0.0)\n",
      "Neutral\n",
      "Sentiment(polarity=0.0, subjectivity=1.0)\n",
      "Neutral\n",
      "Sentiment(polarity=0.475, subjectivity=0.675)\n",
      "posative\n",
      "Sentiment(polarity=0.0, subjectivity=0.0)\n",
      "Neutral\n",
      "Sentiment(polarity=0.16, subjectivity=0.5399999999999999)\n",
      "posative\n",
      "Sentiment(polarity=0.0, subjectivity=0.0)\n",
      "Neutral\n",
      "Sentiment(polarity=0.0, subjectivity=0.0)\n",
      "Neutral\n",
      "Sentiment(polarity=0.13636363636363635, subjectivity=0.45454545454545453)\n",
      "posative\n",
      "Sentiment(polarity=0.03333333333333333, subjectivity=0.22222222222222224)\n",
      "posative\n",
      "Sentiment(polarity=0.0, subjectivity=0.0)\n",
      "Neutral\n",
      "Sentiment(polarity=-0.4, subjectivity=0.6)\n",
      "Negative\n",
      "Sentiment(polarity=0.8, subjectivity=0.75)\n",
      "posative\n",
      "Sentiment(polarity=0.0, subjectivity=0.35714285714285715)\n",
      "Neutral\n",
      "Sentiment(polarity=0.11249999999999999, subjectivity=0.5125)\n",
      "posative\n",
      "Sentiment(polarity=-0.4, subjectivity=0.55)\n",
      "Negative\n",
      "Sentiment(polarity=0.0, subjectivity=0.0)\n",
      "Neutral\n",
      "Sentiment(polarity=0.0, subjectivity=0.0)\n",
      "Neutral\n",
      "Sentiment(polarity=0.0, subjectivity=0.0)\n",
      "Neutral\n",
      "Sentiment(polarity=0.0, subjectivity=0.0)\n",
      "Neutral\n",
      "Sentiment(polarity=0.0, subjectivity=0.0)\n",
      "Neutral\n",
      "Sentiment(polarity=0.0, subjectivity=0.0)\n",
      "Neutral\n"
     ]
    },
    {
     "data": {
      "image/png": "[encoded data removed]",
      "text/plain": [
       "<Figure size 432x288 with 1 Axes>"
      ]
     },
     "metadata": {},
     "output_type": "display_data"
    }
   ],
   "source": [
    "pos=0\n",
    "neg=0\n",
    "neu=0\n",
    "\n",
    "# printing line by line\n",
    "for tweet in tweet_data:\n",
    "   #print(tweet.text)\n",
    "   analysis=TextBlob(tweet.text) # here it will apply NLP\\\n",
    "   print(analysis.sentiment)\n",
    "   # now checking polarity only\n",
    "   if analysis.sentiment.polarity > 0:\n",
    "      print(\"Positive\")\n",
    "      pos=pos+1\n",
    "   elif analysis.sentiment.polarity == 0 :\n",
    "      print(\"Neutral\")\n",
    "      neu=neu+1\n",
    "   else :\n",
    "      print(\"Negative\")\n",
    "      neg=neg+1\n",
    "      \n",
    "# ploting graphs\n",
    "plt.xlabel(\"tags\")\n",
    "plt.ylabel(\"polarity\")\n",
    "#plt.bar(['pos','neg','neu'],[pos,neg,neu])\n",
    "plt.pie([pos,neg,neu],labels=['pos','neg','neu'],autopct=\"%1.1f%%\")\n",
    "plt.show()"
   ]
  },
  {
   "cell_type": "code",
   "execution_count": null,
   "metadata": {
    "id": "gAjH2K4Kq2Pm"
   },
   "outputs": [],
   "source": []
  }
 ],
 "metadata": {
  "colab": {
   "authorship_tag": "ABX9TyPMh/k0PlsFVtvjwISlldDp",
   "collapsed_sections": [],
   "include_colab_link": true,
   "name": "Untitled0.ipynb",
   "provenance": []
  },
  "kernelspec": {
   "display_name": "Python 3 (ipykernel)",
   "language": "python",
   "name": "python3"
  },
  "language_info": {
   "codemirror_mode": {
    "name": "ipython",
    "version": 3
   },
   "file_extension": ".py",
   "mimetype": "text/x-python",
   "name": "python",
   "nbconvert_exporter": "python",
   "pygments_lexer": "ipython3",
   "version": "3.10.0"
  }
 },
 "nbformat": 4,
 "nbformat_minor": 1
}
