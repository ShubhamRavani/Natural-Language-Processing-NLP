{
 "cells": [
  {
   "cell_type": "code",
   "execution_count": 1,
   "id": "1c8a5302",
   "metadata": {},
   "outputs": [
    {
     "name": "stdout",
     "output_type": "stream",
     "text": [
      "*** Introductory Examples for the NLTK Book ***\n",
      "Loading text1, ..., text9 and sent1, ..., sent9\n",
      "Type the name of the text or sentence to view it.\n",
      "Type: 'texts()' or 'sents()' to list the materials.\n",
      "text1: Moby Dick by Herman Melville 1851\n",
      "text2: Sense and Sensibility by Jane Austen 1811\n",
      "text3: The Book of Genesis\n",
      "text4: Inaugural Address Corpus\n",
      "text5: Chat Corpus\n",
      "text6: Monty Python and the Holy Grail\n",
      "text7: Wall Street Journal\n",
      "text8: Personals Corpus\n",
      "text9: The Man Who Was Thursday by G . K . Chesterton 1908\n"
     ]
    }
   ],
   "source": [
    "# Import Libraries\n",
    "\n",
    "from nltk.tokenize import sent_tokenize, word_tokenize\n",
    "from nltk.stem import PorterStemmer\n",
    "from nltk.stem.wordnet import WordNetLemmatizer\n",
    "from nltk import pos_tag, RegexpParser\n",
    "from nltk.chunk.api import ChunkParserI\n",
    "from nltk.corpus import stopwords\n",
    "from nltk import FreqDist\n",
    "import nltk\n",
    "import re\n",
    "import os\n",
    "from IPython.display import Image, display\n",
    "from nltk.draw import TreeWidget\n",
    "from nltk.draw.util import CanvasFrame\n",
    "import subprocess\n",
    "from nltk.book import text8"
   ]
  },
  {
   "cell_type": "code",
   "execution_count": 2,
   "id": "12182a7f",
   "metadata": {},
   "outputs": [
    {
     "name": "stdout",
     "output_type": "stream",
     "text": [
      "[\"I like this movie, it's funny.\", 'I hate this movie.', 'This was awesome!', 'I like it.', 'Nice one.', 'I love it.']\n"
     ]
    }
   ],
   "source": [
    "# Word Tokenization\n",
    "\n",
    "f = open(\"story.txt\", \"r\")\n",
    "text = f.read()\n",
    "\n",
    "print(sent_tokenize(text))\n"
   ]
  },
  {
   "cell_type": "code",
   "execution_count": 3,
   "id": "ad569260",
   "metadata": {},
   "outputs": [
    {
     "name": "stdout",
     "output_type": "stream",
     "text": [
      "['I', 'like', 'this', 'movie', ',', 'it', \"'s\", 'funny', '.', 'I', 'hate', 'this', 'movie', '.', 'This', 'was', 'awesome', '!', 'I', 'like', 'it', '.', 'Nice', 'one', '.', 'I', 'love', 'it', '.']\n"
     ]
    }
   ],
   "source": [
    "# Word Tokenization\n",
    "\n",
    "print(word_tokenize(text))"
   ]
  },
  {
   "cell_type": "code",
   "execution_count": 4,
   "id": "121016b2",
   "metadata": {},
   "outputs": [
    {
     "name": "stdout",
     "output_type": "stream",
     "text": [
      "['i', 'like', 'this', 'movie', 'it', 's', 'funny', 'i', 'hate', 'this', 'movie', 'this', 'was', 'awesome', 'i', 'like', 'it', 'nice', 'one', 'i', 'love', 'it']\n"
     ]
    }
   ],
   "source": [
    "# Lower Case Conversion\n",
    "\n",
    "text = re.sub(r\"[^a-zA-Z0-9]\", \" \", text.lower())\n",
    "words = text.split()\n",
    "print(words)"
   ]
  },
  {
   "cell_type": "code",
   "execution_count": 5,
   "id": "08ebe485",
   "metadata": {},
   "outputs": [
    {
     "name": "stdout",
     "output_type": "stream",
     "text": [
      "['like', 'movie', ',', \"'s\", 'funny', '.', 'hate', 'movie', '.', 'awesome', '!', 'like', '.', 'Nice', 'one', '.', 'love', '.']\n"
     ]
    }
   ],
   "source": [
    "# Stop Word\n",
    "\n",
    "f = open(\"story.txt\")\n",
    "text = f.read()\n",
    "\n",
    "stop_words = set(stopwords.words(\"english\"))\n",
    "words_in_quote = word_tokenize(text)\n",
    "\n",
    "filtered_list = [word for word in words_in_quote if word.casefold() not in stop_words]\n",
    "filtered_list = []\n",
    "\n",
    "for word in words_in_quote:\n",
    "    if word.casefold() not in stop_words:\n",
    "        filtered_list.append(word)\n",
    "        \n",
    "\n",
    "print(filtered_list)"
   ]
  },
  {
   "cell_type": "code",
   "execution_count": 6,
   "id": "b3aec051",
   "metadata": {},
   "outputs": [
    {
     "name": "stdout",
     "output_type": "stream",
     "text": [
      "['i', 'like', 'thi', 'movi', ',', 'it', \"'s\", 'funni', '.', 'i', 'hate', 'thi', 'movi', '.', 'thi', 'wa', 'awesom', '!', 'i', 'like', 'it', '.', 'nice', 'one', '.', 'i', 'love', 'it', '.']\n"
     ]
    }
   ],
   "source": [
    "# Stemming\n",
    "\n",
    "stemmer = PorterStemmer()\n",
    "f = open(\"story.txt\")\n",
    "text = f.read()\n",
    "\n",
    "words = word_tokenize(text)\n",
    "stemmed_words = [stemmer.stem(word) for word in words]\n",
    "\n",
    "print(stemmed_words)"
   ]
  },
  {
   "cell_type": "code",
   "execution_count": 7,
   "id": "34bd9862",
   "metadata": {},
   "outputs": [
    {
     "name": "stdout",
     "output_type": "stream",
     "text": [
      "['I', 'like', 'this', 'movie', ',', 'it', \"'s\", 'funny', '.', 'I', 'hate', 'this', 'movie', '.', 'This', 'wa', 'awesome', '!', 'I', 'like', 'it', '.', 'Nice', 'one', '.', 'I', 'love', 'it', '.']\n"
     ]
    }
   ],
   "source": [
    "# Lemmatization\n",
    "\n",
    "lemmatizer = WordNetLemmatizer()\n",
    "\n",
    "words = word_tokenize(text)\n",
    "lemmatized_words = [lemmatizer.lemmatize(word) for word in words]\n",
    "\n",
    "print(lemmatized_words)"
   ]
  },
  {
   "cell_type": "code",
   "execution_count": 8,
   "id": "3065297f",
   "metadata": {},
   "outputs": [],
   "source": [
    "# Chunking\n",
    "\n",
    "words = word_tokenize(text)\n",
    "lotr_pos_tags = nltk.pos_tag(words)\n",
    "grammar = \"NP: {<DT>?<JJ>*<NN>}\"\n",
    "chunk_parser = nltk.RegexpParser(grammar)\n",
    "tree = chunk_parser.parse(lotr_pos_tags)\n",
    "\n",
    "tree.draw()\n"
   ]
  },
  {
   "cell_type": "code",
   "execution_count": 9,
   "id": "c2ea4c3c",
   "metadata": {},
   "outputs": [],
   "source": [
    "# Chinking\n",
    "\n",
    "words = word_tokenize(text)\n",
    "lotr_pos_tags = nltk.pos_tag(words)\n",
    "grammar = \"\"\"\n",
    "    Chunk: {<.*>+}\n",
    "           }<JJ>{\"\"\"\n",
    "chunk_parser = nltk.RegexpParser(grammar)\n",
    "\n",
    "tree = chunk_parser.parse(lotr_pos_tags)\n",
    "tree.draw()"
   ]
  },
  {
   "cell_type": "code",
   "execution_count": 10,
   "id": "f3e75308",
   "metadata": {},
   "outputs": [],
   "source": [
    "# Using Named Entity Recognition (NER)\n",
    "\n",
    "f = open(\"story.txt\")\n",
    "\n",
    "def extract_ne(text):\n",
    "    words = word_tokenize(text)\n",
    "    tags = nltk.pos_tag(words)\n",
    "    tree = nltk.ne_chunk(tags, binary=True)\n",
    "    tree.draw()\n",
    "#     return set(\n",
    "#        \" \".join(i[0] for i in t)\n",
    "#        for t in tree\n",
    "#        if hasattr(t, \"label\") and t.label() == \"NE\"\n",
    "#     )\n",
    "    \n",
    "\n",
    "\n",
    "text = f.read()\n",
    "extract_ne(text)"
   ]
  },
  {
   "cell_type": "code",
   "execution_count": 11,
   "id": "c3e20562",
   "metadata": {},
   "outputs": [
    {
     "data": {
      "image/png": "[encoded data removed]",
      "text/plain": [
       "<Figure size 432x288 with 1 Axes>"
      ]
     },
     "metadata": {
      "needs_background": "light"
     },
     "output_type": "display_data"
    }
   ],
   "source": [
    "# Making a Dispersion Plot\n",
    "\n",
    "f = open(\"story.txt\")\n",
    "text = f.read()\n",
    "words = word_tokenize(text)\n",
    "text8.dispersion_plot(words)\n",
    "\n",
    "# text8.dispersion_plot([\"woman\", \"lady\", \"girl\", \"gal\", \"man\", \"gentleman\", \"boy\", \"guy\"])"
   ]
  },
  {
   "cell_type": "code",
   "execution_count": 12,
   "id": "38fd935e",
   "metadata": {},
   "outputs": [
    {
     "data": {
      "image/png": "[encoded data removed]",
      "text/plain": [
       "<Figure size 432x288 with 1 Axes>"
      ]
     },
     "metadata": {
      "needs_background": "light"
     },
     "output_type": "display_data"
    },
    {
     "data": {
      "text/plain": [
       "<AxesSubplot:xlabel='Samples', ylabel='Cumulative Counts'>"
      ]
     },
     "execution_count": 12,
     "metadata": {},
     "output_type": "execute_result"
    }
   ],
   "source": [
    "# Making a Frequency Distribution\n",
    "\n",
    "meaningful_words = [word for word in words if word.casefold() not in stop_words]\n",
    "frequency_distribution = FreqDist(meaningful_words)\n",
    "frequency_distribution.plot(20, cumulative=True)"
   ]
  },
  {
   "cell_type": "code",
   "execution_count": 13,
   "id": "458a8e84",
   "metadata": {},
   "outputs": [
    {
     "name": "stdout",
     "output_type": "stream",
     "text": [
      "(S\n",
      "  (NP I/PRP)\n",
      "  (VP like/VBP (NP this/DT movie/NN ,/, it/PRP))\n",
      "  (VP 's/VBZ (NP funny/JJ))\n",
      "  ./.\n",
      "  (NP I/PRP)\n",
      "  (VP hate/VBP (NP this/DT movie/NN))\n",
      "  ./.\n",
      "  (NP This/DT)\n",
      "  (VP was/VBD (NP awesome/JJ))\n",
      "  !/.\n",
      "  (NP I/PRP)\n",
      "  (PP like/IN (NP it/PRP))\n",
      "  ./.\n",
      "  (NP Nice/NNP one/CD)\n",
      "  ./.\n",
      "  (NP I/PRP)\n",
      "  (VP love/VBP (NP it/PRP))\n",
      "  ./.)\n"
     ]
    }
   ],
   "source": [
    "# Parse tree or Syntax Tree generation\n",
    "\n",
    "f = open(\"story.txt\")\n",
    "text = f.read()\n",
    "tagged = pos_tag(word_tokenize(text))\n",
    "chunker = RegexpParser(\"\"\" \n",
    "NP: {<.*>*}   \n",
    "}<[\\.VI].*>+{       \n",
    "<.*>}{<DT>        \n",
    "PP: {<IN><NP>}        \n",
    "VP: {<VB.*><NP|PP>*}\n",
    "\"\"\" )\n",
    "output = chunker.parse(tagged)\n",
    "print(output)\n"
   ]
  },
  {
   "cell_type": "code",
   "execution_count": 14,
   "id": "4ba04eb3",
   "metadata": {},
   "outputs": [],
   "source": [
    "# Parse tree or Syntax Tree generation\n",
    "\n",
    "output.draw()"
   ]
  },
  {
   "cell_type": "code",
   "execution_count": 15,
   "id": "1569f396",
   "metadata": {},
   "outputs": [
    {
     "name": "stdout",
     "output_type": "stream",
     "text": [
      "[('I', 'PRP'), ('like', 'VBP'), ('movie', 'NN'), (',', ','), (\"'s\", 'POS'), ('funny', 'NN'), ('.', '.')]\n",
      "[('I', 'PRP'), ('hate', 'VBP'), ('movie', 'NN'), ('.', '.')]\n",
      "[('This', 'DT'), ('awesome', 'NN'), ('!', '.')]\n",
      "[('I', 'PRP'), ('like', 'VBP'), ('.', '.')]\n",
      "[('Nice', 'NNP'), ('one', 'CD'), ('.', '.')]\n",
      "[('I', 'PRP'), ('love', 'VBP'), ('.', '.')]\n"
     ]
    }
   ],
   "source": [
    "# POS Tagging\n",
    "\n",
    "f = open(\"story.txt\")\n",
    "text = f.read()\n",
    "stop_words = set(stopwords.words('english'))\n",
    "tokenized = sent_tokenize(text)\n",
    "\n",
    "for i in tokenized:\n",
    "    wordsList = nltk.word_tokenize(i)\n",
    "    wordsList = [w for w in wordsList if not w in stop_words]\n",
    "    tagged = nltk.pos_tag(wordsList)\n",
    "    print(tagged)"
   ]
  },
  {
   "cell_type": "code",
   "execution_count": null,
   "id": "6b5fa485",
   "metadata": {},
   "outputs": [],
   "source": []
  }
 ],
 "metadata": {
  "kernelspec": {
   "display_name": "Python 3 (ipykernel)",
   "language": "python",
   "name": "python3"
  },
  "language_info": {
   "codemirror_mode": {
    "name": "ipython",
    "version": 3
   },
   "file_extension": ".py",
   "mimetype": "text/x-python",
   "name": "python",
   "nbconvert_exporter": "python",
   "pygments_lexer": "ipython3",
   "version": "3.10.0"
  }
 },
 "nbformat": 4,
 "nbformat_minor": 5
}
