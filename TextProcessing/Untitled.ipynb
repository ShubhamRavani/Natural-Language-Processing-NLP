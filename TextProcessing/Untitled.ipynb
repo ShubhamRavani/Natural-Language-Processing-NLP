{
 "cells": [
  {
   "cell_type": "code",
   "execution_count": 1,
   "id": "fcae03e1",
   "metadata": {},
   "outputs": [
    {
     "name": "stdout",
     "output_type": "stream",
     "text": [
      "An old Cherokee is teaching his grandson about life.\n",
      "\"A fight is going on inside me,\" he said to the boy. \"It is a terrible fight and it is between two wolves. One is evil he is anger, envy, sorrow, regret, greed, arrogance, self-pity, guilt, resentment, inferiority, lies, false pride, superiority, and ego.\"\n",
      "He continued, \"The other is good - he is joy, peace, love, hope, serenity, humility, kindness, benevolence, empathy, generosity, truth, compassion, and faith. The same fight is going on inside you - and inside every other person, too.\"\n",
      "The grandson thought about it for a minute and then asked his grandfather, \"Which wolf will win?\"\n",
      "\n",
      "The old Cherokee simply replied, \"The one you feed.\"\n"
     ]
    }
   ],
   "source": [
    "f = open(\"C:/Users/shubh/PycharmProjects/NLP/TextProcessing/story.txt\", \"r\")\n",
    "print(f.read())"
   ]
  },
  {
   "cell_type": "code",
   "execution_count": 2,
   "id": "68afbbb8",
   "metadata": {},
   "outputs": [
    {
     "name": "stdout",
     "output_type": "stream",
     "text": [
      "['']\n"
     ]
    }
   ],
   "source": [
    "text = f.read()\n",
    "output = text.split('. ')\n",
    "f.close()\n",
    "print(output)"
   ]
  },
  {
   "cell_type": "code",
   "execution_count": 3,
   "id": "40f65ba1",
   "metadata": {},
   "outputs": [
    {
     "name": "stdout",
     "output_type": "stream",
     "text": [
      "['']\n"
     ]
    }
   ],
   "source": [
    "output = text.split(' ')\n",
    "f.close()\n",
    "print(output)"
   ]
  },
  {
   "cell_type": "code",
   "execution_count": 4,
   "id": "acbde0e8",
   "metadata": {},
   "outputs": [],
   "source": [
    "import collections\n",
    "file = open(\"C:/Users/shubh/PycharmProjects/NLP/TextProcessing/story.txt\", \"r\")\n",
    "a= file.read()"
   ]
  },
  {
   "cell_type": "code",
   "execution_count": 5,
   "id": "474c2475",
   "metadata": {},
   "outputs": [],
   "source": [
    "wordcount = {}\n",
    "# To eliminate duplicates, remember to split by punctuation, and use case demiliters.\n",
    "for word in a.lower().split():\n",
    "    \n",
    "    word = word.replace(\".\",\"\")\n",
    "\n",
    "#     if word not in stopwords:\n",
    "    if word not in wordcount:\n",
    "            wordcount[word] = 1\n",
    "    else:\n",
    "            wordcount[word] += 1"
   ]
  },
  {
   "cell_type": "code",
   "execution_count": 10,
   "id": "27e81fb7",
   "metadata": {},
   "outputs": [
    {
     "name": "stdout",
     "output_type": "stream",
     "text": [
      "How many most common words to print: 3\n",
      "\n",
      " OK. The 3 most common words are as follows\n",
      "\n",
      "is :  9\n",
      "and :  5\n",
      "he :  4\n"
     ]
    }
   ],
   "source": [
    "# Print most common word\n",
    "n_print = int(input(\"How many most common words to print: \"))\n",
    "print(\"\\n OK. The {} most common words are as follows\\n\".format(n_print))\n",
    "word_counter = collections.Counter(wordcount)\n",
    "for word, count in word_counter.most_common(n_print):\n",
    "    print(word, \": \", count)\n",
    "# Close the file\n",
    "file.close()\n"
   ]
  },
  {
   "cell_type": "code",
   "execution_count": 11,
   "id": "e7696d95",
   "metadata": {},
   "outputs": [],
   "source": [
    "from nltk.corpus import stopwords\n",
    "from nltk.tokenize import word_tokenize\n",
    "\n",
    "f = open(\"C:/Users/shubh/PycharmProjects/NLP/TextProcessing/story.txt\")\n",
    "text = f.read()"
   ]
  },
  {
   "cell_type": "code",
   "execution_count": 13,
   "id": "977d7910",
   "metadata": {},
   "outputs": [
    {
     "name": "stdout",
     "output_type": "stream",
     "text": [
      "['An', 'old', 'Cherokee', 'teaching', 'grandson', 'life', '.', '``', 'A', 'fight', 'going', 'inside', ',', \"''\", 'said', 'boy', '.', '``', 'It', 'terrible', 'fight', 'two', 'wolves', '.', 'One', 'evil', 'anger', ',', 'envy', ',', 'sorrow', ',', 'regret', ',', 'greed', ',', 'arrogance', ',', 'self-pity', ',', 'guilt', ',', 'resentment', ',', 'inferiority', ',', 'lies', ',', 'false', 'pride', ',', 'superiority', ',', 'ego', '.', \"''\", 'He', 'continued', ',', '``', 'The', 'good', '-', 'joy', ',', 'peace', ',', 'love', ',', 'hope', ',', 'serenity', ',', 'humility', ',', 'kindness', ',', 'benevolence', ',', 'empathy', ',', 'generosity', ',', 'truth', ',', 'compassion', ',', 'faith', '.', 'The', 'fight', 'going', 'inside', '-', 'inside', 'every', 'person', ',', '.', \"''\", 'The', 'grandson', 'thought', 'minute', 'asked', 'grandfather', ',', '``', 'Which', 'wolf', 'win', '?', \"''\", 'The', 'old', 'Cherokee', 'simply', 'replied', ',', '``', 'The', 'one', 'feed', '.', \"''\"]\n"
     ]
    }
   ],
   "source": [
    "stop_words = set(stopwords.words('english'))\n",
    "\n",
    "word_tokens = word_tokenize(text)\n",
    "\n",
    "filtered_sentence = [w for w in word_tokens if not w.lower() in stop_words]\n",
    "\n",
    "filtered_sentence = []\n",
    "\n",
    "for w in word_tokens:\n",
    "\tif w not in stop_words:\n",
    "\t\tfiltered_sentence.append(w)\n",
    "\n",
    "# print(word_tokens)\n",
    "print(filtered_sentence)\n"
   ]
  },
  {
   "cell_type": "code",
   "execution_count": null,
   "id": "c8986f28",
   "metadata": {},
   "outputs": [],
   "source": []
  }
 ],
 "metadata": {
  "kernelspec": {
   "display_name": "Python 3 (ipykernel)",
   "language": "python",
   "name": "python3"
  },
  "language_info": {
   "codemirror_mode": {
    "name": "ipython",
    "version": 3
   },
   "file_extension": ".py",
   "mimetype": "text/x-python",
   "name": "python",
   "nbconvert_exporter": "python",
   "pygments_lexer": "ipython3",
   "version": "3.10.0"
  }
 },
 "nbformat": 4,
 "nbformat_minor": 5
}
